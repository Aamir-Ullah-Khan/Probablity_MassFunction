{
  "nbformat": 4,
  "nbformat_minor": 0,
  "metadata": {
    "colab": {
      "name": "PMF.ipynb",
      "version": "0.3.2",
      "provenance": [],
      "collapsed_sections": [],
      "include_colab_link": true
    },
    "kernelspec": {
      "name": "python3",
      "display_name": "Python 3"
    }
  },
  "cells": [
    {
      "cell_type": "markdown",
      "metadata": {
        "id": "view-in-github",
        "colab_type": "text"
      },
      "source": [
        "<a href=\"https://colab.research.google.com/github/Aamir-Ullah-Khan/Probablity_MassFunction/blob/master/PMF.ipynb\" target=\"_parent\"><img src=\"https://colab.research.google.com/assets/colab-badge.svg\" alt=\"Open In Colab\"/></a>"
      ]
    },
    {
      "metadata": {
        "id": "tr_0J3Z5azbx",
        "colab_type": "text"
      },
      "cell_type": "markdown",
      "source": [
        ">>>>>**Probability Mass Function**   \n",
        "\n",
        "A probability mass function (PMF)— also called a frequency function— gives you probabilities for discrete random variables. “Random variables” are variables from experiments like dice rolls, choosing a number out of a hat, or getting a high score on a test. The “discrete” part means that there’s a set number of outcomes. For example, you can only roll a 1,2,3,4,5, or 6 on a die.   \n",
        "Its counterpart is the probability density function, which gives probabilities for continuous random variables.   \n",
        "**Properties of PMF: **  \n",
        "\n",
        "The probability mass function, f(x) = P(X = x), of a discrete random variable X has the following properties:\n",
        "1.\tAll probabilities are positive: fx(x) ≥ 0.\n",
        "2.\tAny event in the distribution (e.g. “scoring between 20 and 30”) has a probability of happening of between 0 and 1 (e.g. 0% and 100%).\n",
        "3.\tThe sum of all probabilities is 100% (i.e. 1 as a decimal): Σfx(x) = 1.\n",
        "4.\tAn individual probability is found by adding up the x-values in event A. P(X Ε A) = Σf(x) (x element of A)   \n",
        "A PMF equation looks like this:\n",
        "**P(X = x)**.\n",
        "That just means “the probability that X takes on some value x”.\n",
        "It’s not a very useful equation on its own; what’s more useful is an equation that tells you the probability of some individual event happening. For example:\n",
        "P(X=1) = 0.2 * 0.2. \n",
        " For example, the binomial distribution PMF is:   \n",
        "  >>>** f(x)= (n!/x!*(n-x)!) * p^x (1-p)^(n-x)**    \n",
        "  \n",
        "  The histogram is a graph of a PMF. For example: On the x-axis are the discrete random variables; On the y-axis are the probabilities for each discrete variable. The area under a graph of a probability mass function is 100% (i.e. the probability of all events, when added together, is 100%). The above histogram shows:\n",
        "•\t10% of people scored between 20 and 29,\n",
        "•\t20% of people scored between 70 and 80,\n",
        "•\t40% of people scored between 80 and 90, and\n",
        "•\t30% of people scored between 90 and 100.\n",
        "That gives a total of 10% + 20% + 40% + 30% = 100%.\n",
        "\n",
        "  ![alt text](https://www.statisticshowto.datasciencecentral.com/wp-content/uploads/2013/12/make-a-histogram1.jpg ) \n",
        "  \n",
        "  The following table and graph show the PMF for an experiment. Note how all of the probabilities add up to 1:   ![alt text](https://www.statisticshowto.datasciencecentral.com/wp-content/uploads/2016/09/experiment.png)\n",
        "\n",
        " \n",
        "\n"
      ]
    },
    {
      "metadata": {
        "id": "FY9-7yGylDFQ",
        "colab_type": "text"
      },
      "cell_type": "markdown",
      "source": [
        "**Example Taken for Code**  \n",
        "Suppose there are two classesi.e. Class \"A\" and \"B\". In class A, there are 35 students whereas in class B there are 65 students.  We need to select to select 3 students from both the classes for debate competition. The probability of selection from class A is 0.4 whereas fro class B is 0.6.   \n",
        "Find PMF function of the selected students belonging to class A.   \n",
        "**Solution**  \n",
        "Here \"X\" denotes the event of selected studnet from class A. All the possible values that \"X\" could take are: [0,1,2,3]. First we will calculate the respective probabilities for (X=x)  \n",
        "P(X=x)= P(X=0)= (65/100)*(64/99)*(63/98) = **0.2701  **  \n",
        "P(X=x)= P(X=1)=(65/100)*(64/99)*(35/98)+(65/100)*(35/99)*(64/98)+(35/100)*(65/99)*(64/98) =**0.4502**     \n",
        "P(X=x)= P(X=2)=(65/100)*(35/99)*(34/98)+(35/100)*(34/99)*(65/98)+(35/100)*(65/99)*(34/98)=**0.2392**    \n",
        "P(X=x)= P(X=3)=(35/100)*(34/99)*(33/98) =**0.0405**  \n",
        "Where: **P(X=0)+P(X=1)+P(X=2)+P(X=3) = 0.2701+0.4502+0.2392+0.0405 =1**  \n",
        "![alt text](https://github.com/Aamir-Ullah-Khan/Probablity_MassFunction/blob/master/AdvProbEx.jpg?raw=true)"
      ]
    },
    {
      "metadata": {
        "id": "X5onwhw4b5kP",
        "colab_type": "code",
        "colab": {
          "base_uri": "https://localhost:8080/",
          "height": 340
        },
        "outputId": "aea7814a-33ca-47bd-832d-17b79edca6d7"
      },
      "cell_type": "code",
      "source": [
        "\n",
        "import math\n",
        "import numpy\n",
        "\n",
        "print(\"*******Probability Mass Function*******\")\n",
        "option = str('y')\n",
        "while option == 'y':\n",
        "    print(\"Number of classes = 2 i.e. Class A and Class B \")\n",
        "    print(\"Please input number of students in class A\")\n",
        "    NofStA = int(input())\n",
        "    if NofStA < 0:\n",
        "        print(\" Invalid Entry\")\n",
        "        break\n",
        "\n",
        "    print(\"Please input number of students in class B\")\n",
        "    NofStB = int(input())\n",
        "    if NofStB < 0:\n",
        "        print(\" Invalid Entry\")\n",
        "        break\n",
        "    TotalStu = NofStB+NofStA\n",
        "    print(\"Total number of students is =\", TotalStu )\n",
        "    print(\"Number of students to be selected for debate competition =3\")\n",
        "    print(\"Probability Mass Function of student selected from Class A is required\")\n",
        "    print(\"Possible values of X random variable are : 0 1 2 3\")\n",
        "    a = TotalStu-1\n",
        "    b = TotalStu-2\n",
        "    alpha = TotalStu*a*b\n",
        "    #px0 = (NofStB/TotalStu)*((NofStB-1)/a)*(NofStB-2/b)\n",
        "    px0 = ((NofStB) * (NofStB - 1) * (NofStB - 2))/alpha\n",
        "    print(\"Probability for X=0 is = \", px0)\n",
        "    f1=((NofStB) * (NofStB - 1) * (NofStA))\n",
        "    f2 = ((NofStB) * (NofStA) * (NofStB-1))\n",
        "    f3 = ((NofStA) * (NofStB) * (NofStB - 1))\n",
        "    px1 = (f1+f2+f3)/alpha\n",
        "    print (\"Probability for X=1 is =\", px1)\n",
        "    h1 = ((NofStB) * (NofStA) * (NofStA-1))\n",
        "    h2 = ((NofStA) * (NofStB) * (NofStA-1))\n",
        "    h3 = ((NofStA) * (NofStA-1) * (NofStB))\n",
        "    px2 = (h1 + h2 + h3) / alpha\n",
        "    print(\"Probability for X=2 is =\", px2)\n",
        "    px3 = ((NofStA) * (NofStA - 1) * (NofStA - 2))/alpha\n",
        "    print(\"Probability for X=3 is =\", px3)\n",
        "    print(\"Sum of probabilities for X=[ 0,1,2,3 ] is =\", px0+px1+px2+px3)\n",
        "\n",
        "\n",
        "    print(\"If you want to continue enter y or else any other character\")  # To continue while loop\n",
        "    option = input()\n",
        "input(\"Press any key to close the code\")"
      ],
      "execution_count": 2,
      "outputs": [
        {
          "output_type": "stream",
          "text": [
            "*******Probability Mass Function*******\n",
            "Number of classes = 2 i.e. Class A and Class B \n",
            "Please input number of students in class A\n",
            "35\n",
            "Please input number of students in class B\n",
            "65\n",
            "Total number of students is = 100\n",
            "Number of students to be selected for debate competition =3\n",
            "Probability Mass Function of student selected from Class A is required\n",
            "Possible values of X random variable are : 0 1 2 3\n",
            "Probability for X=0 is =  0.2701298701298701\n",
            "Probability for X=1 is = 0.45021645021645024\n",
            "Probability for X=2 is = 0.23917748917748918\n",
            "Probability for X=3 is = 0.04047619047619048\n",
            "Sum of probabilities for X=[ 0,1,2,3 ] is = 0.9999999999999999\n",
            "If you want to continue enter y or else any other character\n",
            "n\n",
            "Press any key to close the code\n"
          ],
          "name": "stdout"
        },
        {
          "output_type": "execute_result",
          "data": {
            "text/plain": [
              "''"
            ]
          },
          "metadata": {
            "tags": []
          },
          "execution_count": 2
        }
      ]
    }
  ]
}